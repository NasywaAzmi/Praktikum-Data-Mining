{
  "nbformat": 4,
  "nbformat_minor": 0,
  "metadata": {
    "colab": {
      "provenance": [],
      "authorship_tag": "ABX9TyNMb8gsKfXBglWHg29ABGOM",
      "include_colab_link": true
    },
    "kernelspec": {
      "name": "python3",
      "display_name": "Python 3"
    },
    "language_info": {
      "name": "python"
    }
  },
  "cells": [
    {
      "cell_type": "markdown",
      "metadata": {
        "id": "view-in-github",
        "colab_type": "text"
      },
      "source": [
        "<a href=\"https://colab.research.google.com/github/NasywaAzmi/Praktikum-Data-Mining/blob/main/Checkpoint_1_Data_Mining_(Akhmad_Nasywa_Azmi_2209116099).ipynb\" target=\"_parent\"><img src=\"https://colab.research.google.com/assets/colab-badge.svg\" alt=\"Open In Colab\"/></a>"
      ]
    },
    {
      "cell_type": "markdown",
      "source": [
        "#Analisis Perbandingan Tingkat Kematian antara Negara Menggunakan Model Supervised Learning"
      ],
      "metadata": {
        "id": "5sdjc0naZdmW"
      }
    },
    {
      "cell_type": "markdown",
      "source": [
        "##Business Understanding"
      ],
      "metadata": {
        "id": "EVYJoUpxZ18L"
      }
    },
    {
      "cell_type": "markdown",
      "source": [
        "###Tujuan Bisnis\n",
        "Analisis ini bertujuan untuk mengidentifikasi perbedaan dalam penyebab kematian utama antar negara. Dengan memahami perbedaan ini, kita dapat menyoroti tantangan kesehatan berbeda yang dihadapi oleh masing-masing negara\n",
        "\n",
        "###Menilai Situasi\n",
        "Dengan memahami perbedaan dalam pola kematian antar negara, perusahaan atau organisasi yang bersangkutan dapat lebih memahami populasi yang mereka layani. Ini bisa membantu dalam merancang sebuah produk atau layanan yang lebih sesuai dengan kebutuhan dan tantangan kesehatan yang spesifik dari masing-masing negara\n",
        "\n",
        "###Tujuan Data Mining\n",
        "Tujuan dari Data Mining pada dataset ini adalah untuk memberikan analisis data agar intervensi kesehatan dapat dirancang dengan lebih tepat sasaran untuk mengatasi masalah-masalah kesehatan yang spesifik dalam negara-negara tersebut\n",
        "\n",
        "###Rencana Projek\n",
        "Rencana proyek untuk menganalisis dataset ini dimulai dengan menentukan tujuan dan latar belakang proyek, selanjutnya akan dilakukan eksplorasi awal terhadap data untuk memahami struktur dataset, distribusi variabel kematian, dan pola umum yang mungkin terlihat. setelah itu menganalisis perbandingan tingkat kematian, penyebab kematian utama dan faktor yang mempengaruhi dari berbagai masing negara. setelah semua itu dilakukan, maka bisa menginterpretasi temuan dan menarik kesimpulan"
      ],
      "metadata": {
        "id": "s3cBq3ccZ7uQ"
      }
    }
  ]
}